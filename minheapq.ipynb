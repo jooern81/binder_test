{
 "cells": [
  {
   "cell_type": "code",
   "execution_count": null,
   "metadata": {},
   "outputs": [],
   "source": [
    "import heapq\n",
    "import pandas as pd\n",
    "replace_df = pd.read_excel("RAIL_REPLACEMENT_WORKS.xlsx")\n",
    "class Solution:\n",
    "    def mergeKLists(self, lists: List[ListNode]) -> ListNode:\n",
    "        k = len(lists) #get length of lists\n",
    "        for i in range(k-1,-1,-1):#reverse loop to pop rightly if the list is empty\n",
    "            if not lists[i]:\n",
    "                lists.pop(i)\n",
    "                k -= 1 #shorten k for each empty list\n",
    "        \n",
    "        # if lists is empty, return list\n",
    "        if not lists:\n",
    "            return\n",
    "        \n",
    "        \n",
    "        pq = [(lists[i].val,i) for i in range(k)] #create a list pq where each element is a tuple (value of head, index) each index refers to a linked list in lists\n",
    "        for i in range(k): #iterate across each list\n",
    "            lists[i] = lists[i].next # make the next node the head\n",
    "        heapq.heapify(pq) # min heap the pq (which contains all the heads)\n",
    "        res = ListNode(0) # make a result node\n",
    "        cur = res # set cur to the result node\n",
    "        while k>0: #while there are lists in lists\n",
    "            value, lys = heapq.heappop(pq) #since each element in the heap is a tuple, when you pop, you pop a tuple\n",
    "            cur.next = ListNode(value) #create a node each time you pop\n",
    "            cur = cur.next #move the pointer to the current end of res\n",
    "            if lists[lys]: #if list with index lys in lists is not empty, push up the new tuple into the heap pq\n",
    "                heapq.heappush(pq,(lists[lys].val,lys))\n",
    "                lists[lys] = lists[lys].next #make the next value the head, ready to be considered for res\n",
    "            else:\n",
    "                k -= 1\n",
    "        return res.next #return the linked list from the second node onwards"
   ]
  },
  {
   "cell_type": "code",
   "execution_count": 161,
   "metadata": {},
   "outputs": [],
   "source": [
    "#maxsize = number of nodes in heap\n",
    "#assumes max value each node can take = maxvalue\n",
    "class minheap:\n",
    "    def __init__(self,maxvalue,maxsize):\n",
    "        self.heap = [maxvalue]*maxsize\n",
    "        self.size = 0\n",
    "        self.maxsize = maxsize\n",
    "    \n",
    "    def parent_pos(self,pos):\n",
    "            return((pos-1)//2) \n",
    "    \n",
    "    def leftchild_pos(self,pos):\n",
    "            return((pos*2+1))\n",
    "\n",
    "    def rightchild_pos(self,pos):\n",
    "            return((pos*2+2))\n",
    "        \n",
    "    def minheapify(self,pos):\n",
    "        if (self.heap[self.leftchild_pos(pos)] < self.heap[pos]) or (self.heap[self.rightchild_pos(pos)] < self.heap[pos]) : \n",
    "            if self.heap[self.rightchild_pos(pos)] < self.heap[self.leftchild_pos(pos)]:\n",
    "                self.heap[pos], self.heap[self.rightchild_pos(pos)] = self.heap[self.rightchild_pos(pos)], self.heap[pos]\n",
    "                self.minheapify(self.rightchild_pos(pos))\n",
    "            else:\n",
    "                self.heap[pos], self.heap[self.leftchild_pos(pos)] = self.heap[self.leftchild_pos(pos)], self.heap[pos]\n",
    "                self.minheapify(self.leftchild_pos(pos))\n",
    "    \n",
    "    def makeminheap(self):\n",
    "        #minheapify the non-leaf nodes onwards, cascading smaller values up and larger values down\n",
    "        for index in range(self.size//2,0,-1):\n",
    "            self.minheapify(index)\n",
    "            \n",
    "    def insert(self,value):\n",
    "        #start at index 0 for first insert\n",
    "        self.heap[self.size] = value\n",
    "        curr_index = self.size\n",
    "        self.size += 1\n",
    "        \n",
    "        #cascade the new addition (at the leaf), upwards towards the root if its parent is larger than it\n",
    "        print(self.heap[curr_index],self.heap[self.parent_pos(curr_index)],curr_index)\n",
    "        while self.heap[curr_index] < self.heap[self.parent_pos(curr_index)] and curr_index >= 1:\n",
    "            self.heap[curr_index], self.heap[self.parent_pos(curr_index)] = self.heap[self.parent_pos(curr_index)], self.heap[curr_index]\n",
    "            curr_index = self.parent_pos(curr_index)\n",
    "        \n",
    "    def removemin(self):\n",
    "        self.size -= 1\n",
    "        minimum = self.heap.pop(0)\n",
    "        self.minheapify(0)\n",
    "        return minimum\n",
    "    \n",
    "    def printheap(self):\n",
    "        for index in range(0,max(1,self.size//2)):\n",
    "            print('PARENT: ' + str(self.heap[index]))\n",
    "            if self.leftchild_pos(index) < self.size:\n",
    "                print('L_CHILD: ' + str(self.heap[self.leftchild_pos(index)]))\n",
    "            if self.rightchild_pos(index) < self.size:\n",
    "                print('R_CHILD: ' + str(self.heap[self.rightchild_pos(index)]))\n",
    "        \n",
    "        \n",
    "        "
   ]
  },
  {
   "cell_type": "code",
   "execution_count": 162,
   "metadata": {},
   "outputs": [
    {
     "name": "stdout",
     "output_type": "stream",
     "text": [
      "3 99 0\n",
      "4 3 1\n",
      "5 3 2\n",
      "1 4 3\n",
      "10 3 4\n",
      "9 5 5\n",
      "6 5 6\n",
      "7 4 7\n"
     ]
    }
   ],
   "source": [
    "my_minheap = minheap(99,10)\n",
    "my_minheap.insert(3)\n",
    "my_minheap.insert(4)\n",
    "my_minheap.insert(5)\n",
    "my_minheap.insert(1)\n",
    "my_minheap.insert(10)\n",
    "my_minheap.insert(9)\n",
    "my_minheap.insert(6)\n",
    "my_minheap.insert(7)"
   ]
  },
  {
   "cell_type": "code",
   "execution_count": 163,
   "metadata": {},
   "outputs": [
    {
     "data": {
      "text/plain": [
       "8"
      ]
     },
     "execution_count": 163,
     "metadata": {},
     "output_type": "execute_result"
    }
   ],
   "source": [
    "my_minheap.size"
   ]
  },
  {
   "cell_type": "code",
   "execution_count": 164,
   "metadata": {},
   "outputs": [
    {
     "data": {
      "text/plain": [
       "[1, 3, 5, 4, 10, 9, 6, 7, 99, 99]"
      ]
     },
     "execution_count": 164,
     "metadata": {},
     "output_type": "execute_result"
    }
   ],
   "source": [
    "my_minheap.heap"
   ]
  },
  {
   "cell_type": "code",
   "execution_count": 165,
   "metadata": {},
   "outputs": [
    {
     "name": "stdout",
     "output_type": "stream",
     "text": [
      "PARENT: 1\n",
      "L_CHILD: 3\n",
      "R_CHILD: 5\n",
      "PARENT: 3\n",
      "L_CHILD: 4\n",
      "R_CHILD: 10\n",
      "PARENT: 5\n",
      "L_CHILD: 9\n",
      "R_CHILD: 6\n",
      "PARENT: 4\n",
      "L_CHILD: 7\n"
     ]
    }
   ],
   "source": [
    "my_minheap.printheap()"
   ]
  },
  {
   "cell_type": "code",
   "execution_count": 166,
   "metadata": {},
   "outputs": [
    {
     "data": {
      "text/plain": [
       "[1, 3, 5, 4, 10, 9, 6, 7, 99, 99]"
      ]
     },
     "execution_count": 166,
     "metadata": {},
     "output_type": "execute_result"
    }
   ],
   "source": [
    "my_minheap.heap"
   ]
  },
  {
   "cell_type": "code",
   "execution_count": 167,
   "metadata": {},
   "outputs": [
    {
     "name": "stdout",
     "output_type": "stream",
     "text": [
      "PARENT: 1\n",
      "L_CHILD: 3\n",
      "R_CHILD: 5\n",
      "PARENT: 3\n",
      "L_CHILD: 4\n",
      "R_CHILD: 10\n",
      "PARENT: 5\n",
      "L_CHILD: 9\n",
      "R_CHILD: 6\n",
      "PARENT: 4\n",
      "L_CHILD: 7\n"
     ]
    }
   ],
   "source": [
    "my_minheap.printheap()"
   ]
  },
  {
   "cell_type": "code",
   "execution_count": 168,
   "metadata": {},
   "outputs": [
    {
     "data": {
      "text/plain": [
       "1"
      ]
     },
     "execution_count": 168,
     "metadata": {},
     "output_type": "execute_result"
    }
   ],
   "source": [
    "my_minheap.removemin()"
   ]
  },
  {
   "cell_type": "code",
   "execution_count": 169,
   "metadata": {},
   "outputs": [
    {
     "name": "stdout",
     "output_type": "stream",
     "text": [
      "PARENT: 3\n",
      "L_CHILD: 5\n",
      "R_CHILD: 4\n",
      "PARENT: 5\n",
      "L_CHILD: 10\n",
      "R_CHILD: 9\n",
      "PARENT: 4\n",
      "L_CHILD: 6\n",
      "R_CHILD: 7\n"
     ]
    }
   ],
   "source": [
    "my_minheap.printheap()"
   ]
  },
  {
   "cell_type": "code",
   "execution_count": null,
   "metadata": {},
   "outputs": [],
   "source": []
  }
 ],
 "metadata": {
  "kernelspec": {
   "display_name": "Python 3",
   "language": "python",
   "name": "python3"
  },
  "language_info": {
   "codemirror_mode": {
    "name": "ipython",
    "version": 3
   },
   "file_extension": ".py",
   "mimetype": "text/x-python",
   "name": "python",
   "nbconvert_exporter": "python",
   "pygments_lexer": "ipython3",
   "version": "3.6.12"
  }
 },
 "nbformat": 4,
 "nbformat_minor": 4
}
